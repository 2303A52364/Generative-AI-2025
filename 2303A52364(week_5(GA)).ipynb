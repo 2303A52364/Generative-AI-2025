{
  "nbformat": 4,
  "nbformat_minor": 0,
  "metadata": {
    "colab": {
      "provenance": []
    },
    "kernelspec": {
      "name": "python3",
      "display_name": "Python 3"
    },
    "language_info": {
      "name": "python"
    }
  },
  "cells": [
    {
      "cell_type": "markdown",
      "source": [
        "QUESTION 1\n",
        "\n",
        "Design a multi-layer ANN architecture with one input, one hidden, and one output\n",
        "layer. Assume a linear activation function in the output layer and a sigmoid activation function\n",
        "in the hidden layer.\n",
        "• Write Python code for a backpropagation algorithm with gradient descent optimization to\n",
        "update weights and bias parameters of the ANN model with training data shown in Table\n",
        "1.\n",
        "• Calculate the mean square error with training and testing data shown in Table 2.\n",
        "• Write Python code that reads the input data [x1 and x2] from the user. Predict the output\n",
        "with deployed ANN model\n",
        "Tabela 1: Training Data\n",
        "x1 x2 y\n",
        "0.1 0.2 0.3432\n",
        "0.2 0.3 0.3490\n",
        "0.3 0.4 0.3548\n",
        "0.6 0.7 0.3720\n",
        "0.7 0.8 0.3776\n",
        "0.8 0.9 0.3832\n",
        "Tabela 2: Test Data\n",
        "x1 x2 y\n",
        "0.4 0.5 0.3606\n",
        "0.5 0.6 0.3663\n",
        "• Expected learning Outcomes from this assignment related to python\n",
        "– Students are able to understand how backpropagation algorithm helps to update model\n",
        "parameters of multilayer ANN\n",
        "– Students are able to write code in python for backpropagation algorithm\n",
        "– Students are able to design architecture of ANN based on problem statement\n",
        "– Students are able to derive mathematical expression for change in weights and bias\n",
        "parameters for different activation functions"
      ],
      "metadata": {
        "id": "PZnuxFDCaJjY"
      }
    },
    {
      "cell_type": "code",
      "execution_count": null,
      "metadata": {
        "colab": {
          "base_uri": "https://localhost:8080/"
        },
        "id": "CZYTnoW3aHBx",
        "outputId": "6bfe7f89-9253-41d8-a41d-be6b67fc685d"
      },
      "outputs": [
        {
          "output_type": "stream",
          "name": "stdout",
          "text": [
            "Training MSE: 2.5057013478185165e-07\n",
            "Testing MSE: 6.437180245997566e-07\n",
            "Enter x1 and x2: 0.4 0.5\n",
            "Predicted output: 0.3613691228092763\n"
          ]
        }
      ],
      "source": [
        "import numpy as np\n",
        "\n",
        "def sigmoid(x):\n",
        "    return 1 / (1 + np.exp(-x))\n",
        "\n",
        "def sigmoid_derivative(x):\n",
        "    return x * (1 - x)\n",
        "\n",
        "def train_ann(X, y, hidden_neurons=3, epochs=10000, learning_rate=0.1):\n",
        "    input_neurons = X.shape[1]\n",
        "    output_neurons = 1\n",
        "\n",
        "    # Initialize weights and biases\n",
        "    W1 = np.random.rand(input_neurons, hidden_neurons)\n",
        "    b1 = np.random.rand(hidden_neurons)\n",
        "    W2 = np.random.rand(hidden_neurons, output_neurons)\n",
        "    b2 = np.random.rand(output_neurons)\n",
        "\n",
        "    for _ in range(epochs):\n",
        "        # Forward propagation\n",
        "        hidden_input = np.dot(X, W1) + b1\n",
        "        hidden_output = sigmoid(hidden_input)\n",
        "        final_input = np.dot(hidden_output, W2) + b2\n",
        "        final_output = final_input  # Linear activation\n",
        "\n",
        "        # Compute error\n",
        "        error = y - final_output\n",
        "\n",
        "        # Backpropagation\n",
        "        d_output = error  # Derivative of linear activation is 1\n",
        "        d_hidden = d_output.dot(W2.T) * sigmoid_derivative(hidden_output)\n",
        "\n",
        "        # Update weights and biases\n",
        "        W2 += learning_rate * hidden_output.T.dot(d_output)\n",
        "        b2 += learning_rate * np.sum(d_output, axis=0)\n",
        "        W1 += learning_rate * X.T.dot(d_hidden)\n",
        "        b1 += learning_rate * np.sum(d_hidden, axis=0)\n",
        "\n",
        "    return W1, b1, W2, b2\n",
        "\n",
        "def predict(X, W1, b1, W2, b2):\n",
        "    hidden_input = np.dot(X, W1) + b1\n",
        "    hidden_output = sigmoid(hidden_input)\n",
        "    final_input = np.dot(hidden_output, W2) + b2\n",
        "    return final_input  # Linear activation\n",
        "\n",
        "def mean_square_error(y_true, y_pred):\n",
        "    return np.mean((y_true - y_pred) ** 2)\n",
        "\n",
        "# Training data\n",
        "X_train = np.array([[0.1, 0.2], [0.2, 0.3], [0.3, 0.4], [0.6, 0.7], [0.7, 0.8], [0.8, 0.9]])\n",
        "y_train = np.array([[0.3432], [0.3490], [0.3548], [0.3720], [0.3776], [0.3832]])\n",
        "\n",
        "# Training the model\n",
        "W1, b1, W2, b2 = train_ann(X_train, y_train)\n",
        "\n",
        "# Testing data\n",
        "X_test = np.array([[0.4, 0.5], [0.5, 0.6]])\n",
        "y_test = np.array([[0.3606], [0.3663]])\n",
        "\n",
        "y_train_pred = predict(X_train, W1, b1, W2, b2)\n",
        "y_test_pred = predict(X_test, W1, b1, W2, b2)\n",
        "\n",
        "print(\"Training MSE:\", mean_square_error(y_train, y_train_pred))\n",
        "print(\"Testing MSE:\", mean_square_error(y_test, y_test_pred))\n",
        "\n",
        "# User input\n",
        "x1, x2 = map(float, input(\"Enter x1 and x2: \").split())\n",
        "user_input = np.array([[x1, x2]])\n",
        "prediction = predict(user_input, W1, b1, W2, b2)\n",
        "print(\"Predicted output:\", prediction[0][0])"
      ]
    }
  ]
}
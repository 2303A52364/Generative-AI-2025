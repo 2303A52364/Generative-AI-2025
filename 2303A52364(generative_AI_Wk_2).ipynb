{
  "nbformat": 4,
  "nbformat_minor": 0,
  "metadata": {
    "colab": {
      "provenance": []
    },
    "kernelspec": {
      "name": "python3",
      "display_name": "Python 3"
    },
    "language_info": {
      "name": "python"
    }
  },
  "cells": [
    {
      "cell_type": "markdown",
      "source": [
        "problem - 1"
      ],
      "metadata": {
        "id": "CB4GwcmSdSy1"
      }
    },
    {
      "cell_type": "code",
      "execution_count": 1,
      "metadata": {
        "colab": {
          "base_uri": "https://localhost:8080/"
        },
        "id": "tUkJXASJb6bo",
        "outputId": "71ce98e6-f6d0-4da3-e681-66c1777c6765"
      },
      "outputs": [
        {
          "output_type": "stream",
          "name": "stdout",
          "text": [
            "Optimal Production Plan:\n",
            "Units of Product A to produce: 2\n",
            "Units of Product B to produce: 3\n",
            "Maximum Profit: Rs 27\n"
          ]
        }
      ],
      "source": [
        "# Define the available resources\n",
        "milk_capacity = 5\n",
        "chocolate_capacity = 12\n",
        "\n",
        "# Profit per unit of products\n",
        "profit_per_A = 6\n",
        "profit_per_B = 5\n",
        "\n",
        "# Variables to track the best solution\n",
        "highest_profit = 0\n",
        "best_units_of_A = 0\n",
        "best_units_of_B = 0\n",
        "\n",
        "# Iterate through all possible combinations of units for products A and B\n",
        "for units_of_A in range(milk_capacity + 1):\n",
        "    for units_of_B in range(milk_capacity + 1 - units_of_A):  # A + B must stay within the milk limit\n",
        "        # Ensure the chocolate usage is within the available amount\n",
        "        if (3 * units_of_A + 2 * units_of_B) <= chocolate_capacity:\n",
        "            # Calculate the current profit\n",
        "            current_profit = (profit_per_A * units_of_A) + (profit_per_B * units_of_B)\n",
        "            # Update the highest profit and optimal solution if the current one is better\n",
        "            if current_profit > highest_profit:\n",
        "                highest_profit = current_profit\n",
        "                best_units_of_A = units_of_A\n",
        "                best_units_of_B = units_of_B\n",
        "\n",
        "# Display the optimal solution\n",
        "print(\"Optimal Production Plan:\")\n",
        "print(f\"Units of Product A to produce: {best_units_of_A}\")\n",
        "print(f\"Units of Product B to produce: {best_units_of_B}\")\n",
        "print(f\"Maximum Profit: Rs {highest_profit}\")\n"
      ]
    },
    {
      "cell_type": "markdown",
      "source": [
        "problem - 2"
      ],
      "metadata": {
        "id": "XmEhT3oBdP2G"
      }
    },
    {
      "cell_type": "code",
      "source": [
        "# Given available resources\n",
        "total_land = 110  # in hectares\n",
        "total_budget = 700000  # in Rs\n",
        "total_labor = 1200  # in man-days\n",
        "\n",
        "# Cost, profit, and labor requirements for each crop\n",
        "wheat_cost = 7000  # Rs per hectare\n",
        "barley_cost = 2000  # Rs per hectare\n",
        "wheat_profit = 50  # Rs profit per hectare\n",
        "barley_profit = 30  # Rs profit per hectare\n",
        "wheat_labor = 120  # man-days per hectare\n",
        "barley_labor = 10  # man-days per hectare\n",
        "\n",
        "# Variables to keep track of the best combination\n",
        "highest_profit = 0\n",
        "best_wheat_allocation = 0\n",
        "best_barley_allocation = 0\n",
        "\n",
        "# Using a brute-force approach to explore all possible combinations of wheat and barley planting\n",
        "for wheat_hectares in range(total_land + 1):  # Trying all possible hectares of wheat\n",
        "    for barley_hectares in range(total_land + 1 - wheat_hectares):  # Remaining hectares for barley\n",
        "        # Calculate the usage of resources for the current combination\n",
        "        used_land = wheat_hectares + barley_hectares\n",
        "        used_budget = (wheat_hectares * wheat_cost) + (barley_hectares * barley_cost)\n",
        "        used_labor = (wheat_hectares * wheat_labor) + (barley_hectares * barley_labor)\n",
        "\n",
        "        # Check if the combination meets all constraints\n",
        "        if used_land <= total_land and used_budget <= total_budget and used_labor <= total_labor:\n",
        "            # Calculate the profit for this combination\n",
        "            current_profit = (wheat_hectares * wheat_profit) + (barley_hectares * barley_profit)\n",
        "\n",
        "            # Update the best solution if the current combination yields a higher profit\n",
        "            if current_profit > highest_profit:\n",
        "                highest_profit = current_profit\n",
        "                best_wheat_allocation = wheat_hectares\n",
        "                best_barley_allocation = barley_hectares\n",
        "\n",
        "# Display the optimal solution\n",
        "print(\"Optimal Crop Allocation:\")\n",
        "print(f\"Wheat to plant: {best_wheat_allocation} hectares\")\n",
        "print(f\"Barley to plant: {best_barley_allocation} hectares\")\n",
        "print(f\"Maximum Profit: Rs {highest_profit}\")\n"
      ],
      "metadata": {
        "colab": {
          "base_uri": "https://localhost:8080/"
        },
        "id": "mgY3URtIctE-",
        "outputId": "b71fb945-3110-41b3-c90f-cb11395611bf"
      },
      "execution_count": 2,
      "outputs": [
        {
          "output_type": "stream",
          "name": "stdout",
          "text": [
            "Optimal Crop Allocation:\n",
            "Wheat to plant: 0 hectares\n",
            "Barley to plant: 110 hectares\n",
            "Maximum Profit: Rs 3300\n"
          ]
        }
      ]
    }
  ]
}
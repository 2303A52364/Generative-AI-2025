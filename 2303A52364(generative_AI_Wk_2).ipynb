{
  "nbformat": 4,
  "nbformat_minor": 0,
  "metadata": {
    "colab": {
      "provenance": []
    },
    "kernelspec": {
      "name": "python3",
      "display_name": "Python 3"
    },
    "language_info": {
      "name": "python"
    }
  },
  "cells": [
    {
      "cell_type": "markdown",
      "source": [
        "problem - 1"
      ],
      "metadata": {
        "id": "CB4GwcmSdSy1"
      }
    },
    {
      "cell_type": "code",
      "execution_count": 3,
      "metadata": {
        "colab": {
          "base_uri": "https://localhost:8080/"
        },
        "id": "tUkJXASJb6bo",
        "outputId": "da62d3f6-85e1-45a3-aff9-251c8564c00f"
      },
      "outputs": [
        {
          "output_type": "stream",
          "name": "stdout",
          "text": [
            "Optimal Production Plan:\n",
            "Units of Product A to produce: 2\n",
            "Units of Product B to produce: 3\n",
            "Maximum Profit: Rs 27\n"
          ]
        }
      ],
      "source": [
        "# Define the available resources\n",
        "milk_capacity = 5\n",
        "chocolate_capacity = 12\n",
        "\n",
        "# Profit per unit of products\n",
        "profit_per_A = 6\n",
        "profit_per_B = 5\n",
        "\n",
        "# Variables to track the best solution\n",
        "highest_profit = 0\n",
        "best_units_of_A = 0\n",
        "best_units_of_B = 0\n",
        "\n",
        "# Iterate through all possible combinations of units for products A and B\n",
        "for units_of_A in range(milk_capacity + 1):\n",
        "    for units_of_B in range(milk_capacity + 1 - units_of_A):  # A + B must stay within the milk limit\n",
        "        # Ensure the chocolate usage is within the available amount\n",
        "        if (3 * units_of_A + 2 * units_of_B) <= chocolate_capacity:\n",
        "            # Calculate the current profit\n",
        "            current_profit = (profit_per_A * units_of_A) + (profit_per_B * units_of_B)\n",
        "            # Update the highest profit and optimal solution if the current one is better\n",
        "            if current_profit > highest_profit:\n",
        "                highest_profit = current_profit\n",
        "                best_units_of_A = units_of_A\n",
        "                best_units_of_B = units_of_B\n",
        "\n",
        "# Display the optimal solution\n",
        "print(\"Optimal Production Plan:\")\n",
        "print(f\"Units of Product A to produce: {best_units_of_A}\")\n",
        "print(f\"Units of Product B to produce: {best_units_of_B}\")\n",
        "print(f\"Maximum Profit: Rs {highest_profit}\")\n"
      ]
    },
    {
      "cell_type": "markdown",
      "source": [
        "problem - 2"
      ],
      "metadata": {
        "id": "XmEhT3oBdP2G"
      }
    },
    {
      "cell_type": "code",
      "source": [
        "# Brute-force approach\n",
        "max_profit = 0\n",
        "optimal_x = 0\n",
        "optimal_y = 0\n",
        "\n",
        "for x in range(111):\n",
        "    for y in range(111):\n",
        "        if x + y == 110 or 7000 * x + 2000 * y == 700000 or 10 * x + 30 * y == 1200:\n",
        "            if x + y <= 110 and 7000 * x + 2000 * y <= 700000 and 10 * x + 30 * y <= 1200:\n",
        "                profit = 50 * x + 120 * y\n",
        "                if profit > max_profit:\n",
        "                    max_profit = profit\n",
        "                    optimal_x = x\n",
        "                    optimal_y = y\n",
        "\n",
        "# Print brute-force solution\n",
        "print(\"Brute-force approach:\")\n",
        "print(f\"Optimal number of hectares for Wheat: {optimal_x}\")\n",
        "print(f\"Optimal number of hectares for Barley: {optimal_y}\")\n",
        "print(f\"Maximum profit: Rs {max_profit}\")\n",
        "\n",
        "# Linear Programming approach using scipy.optimize\n",
        "from scipy.optimize import linprog\n",
        "import numpy as np\n",
        "\n",
        "# Coefficients for the profit function (negated for minimization in linprog)\n",
        "c = [-50, -120]\n",
        "\n",
        "# Coefficients for inequality constraints\n",
        "A = [\n",
        "    [1, 1],          # Land constraint\n",
        "    [7000, 2000],    # Budget constraint\n",
        "    [10, 30]         # Labor constraint\n",
        "]\n",
        "b = [110, 700000, 1200]\n",
        "\n",
        "# Bounds for decision variables\n",
        "x_bounds = (0, None)  # x >= 0\n",
        "y_bounds = (0, None)  # y >= 0\n",
        "bounds = [x_bounds, y_bounds]\n",
        "\n",
        "# Solve the linear programming problem\n",
        "result = linprog(c, A_ub=A, b_ub=b, bounds=bounds, method=\"highs\")\n",
        "\n",
        "# Extract the optimal solution\n",
        "optimal_x, optimal_y = result.x\n",
        "max_profit = -result.fun\n",
        "\n",
        "# Print LP solution\n",
        "print(\"\\nLinear Programming approach:\")\n",
        "print(f\"Optimal number of hectares for Wheat: {np.round(optimal_x)}\")\n",
        "print(f\"Optimal number of hectares for Barley: {np.round(optimal_y)}\")\n",
        "print(f\"Maximum profit: Rs {np.round(max_profit)}\")\n"
      ],
      "metadata": {
        "colab": {
          "base_uri": "https://localhost:8080/"
        },
        "id": "DY1KozTAaD6j",
        "outputId": "db17e7b6-05e5-4485-c786-e854ecb1c8a7"
      },
      "execution_count": 2,
      "outputs": [
        {
          "output_type": "stream",
          "name": "stdout",
          "text": [
            "Brute-force approach:\n",
            "Optimal number of hectares for Wheat: 96\n",
            "Optimal number of hectares for Barley: 8\n",
            "Maximum profit: Rs 5760\n",
            "\n",
            "Linear Programming approach:\n",
            "Optimal number of hectares for Wheat: 98.0\n",
            "Optimal number of hectares for Barley: 7.0\n",
            "Maximum profit: Rs 5779.0\n"
          ]
        }
      ]
    }
  ]
}